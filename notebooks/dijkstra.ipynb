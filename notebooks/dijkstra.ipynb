{
 "cells": [
  {
   "cell_type": "markdown",
   "metadata": {},
   "source": [
    "# Dijkstra's Algorithm"
   ]
  },
  {
   "cell_type": "code",
   "execution_count": 53,
   "metadata": {},
   "outputs": [],
   "source": [
    "import numpy as np\n",
    "import matplotlib.pyplot as plt\n",
    "import matplotlib.ticker as ticker\n",
    "color = {'orange': '#FF4B00', 'blue': '#005AFF', 'green': '#03AF7A', 'purple': '#990099'}"
   ]
  },
  {
   "cell_type": "markdown",
   "metadata": {},
   "source": [
    "## Make Map"
   ]
  },
  {
   "cell_type": "code",
   "execution_count": 54,
   "metadata": {},
   "outputs": [
    {
     "name": "stdout",
     "output_type": "stream",
     "text": [
      "[INFO] size of the map is: (12, 14)\n",
      "[INFO] start point: (0, 1), goal point: (11, 13)\n"
     ]
    },
    {
     "data": {
      "image/png": "[encoded data removed]",
      "text/plain": [
       "<Figure size 640x480 with 1 Axes>"
      ]
     },
     "metadata": {},
     "output_type": "display_data"
    }
   ],
   "source": [
    "###### YOU CAN CHANGE MAP HERE ######\n",
    "# map parameters\n",
    "(START_X, START_Y) = ( 0,  1)\n",
    "( GOAL_X,  GOAL_Y) = (11, 13)\n",
    "# make a map which is a set of cells, each cell is a 0 or 1, 0 means a free cell, 1 means an obstacle\n",
    "# (x, y)   y=0    y=1    y=2\n",
    "#   x=0  (0, 0) (0, 1) (0, 2) ...\n",
    "#   x=1  (1, 0) (1, 1) (1, 2) ...\n",
    "#   x=2  (2, 0) (2, 1) (2, 2) ...\n",
    "obstacle_map = np.array([\n",
    "    [0, 0, 1, 0, 1, 0, 1, 0, 1, 0, 1, 0, 1, 0],\n",
    "    [1, 0, 0, 0, 1, 0, 1, 0, 1, 0, 1, 0, 1, 0],\n",
    "    [1, 0, 0, 0, 0, 0, 0, 1, 0, 0, 1, 0, 1, 0],\n",
    "    [1, 1, 0, 1, 0, 1, 1, 0, 1, 0, 0, 0, 0, 0],\n",
    "    [1, 0, 0, 0, 1, 0, 0, 0, 1, 0, 0, 0, 0, 0],\n",
    "    [0, 0, 1, 0, 0, 0, 1, 0, 0, 1, 0, 0, 0, 1],\n",
    "    [0, 1, 0, 0, 0, 1, 0, 0, 0, 0, 1, 0, 1, 1],\n",
    "    [0, 0, 0, 1, 1, 0, 0, 1, 0, 0, 1, 0, 1, 0],\n",
    "    [0, 0, 0, 0, 0, 0, 1, 1, 0, 0, 1, 0, 1, 1],\n",
    "    [0, 1, 1, 1, 0, 0, 0, 0, 0, 0, 1, 0, 0, 0],\n",
    "    [0, 0, 1, 0, 0, 0, 1, 0, 0, 0, 0, 0, 0, 0],\n",
    "    [0, 1, 0, 0, 0, 1, 1, 0, 1, 1, 1, 0, 1, 0],\n",
    "])\n",
    "#####################################\n",
    "\n",
    "# get the size of the map\n",
    "map_x_length, map_y_length = obstacle_map.shape[0], obstacle_map.shape[1]\n",
    "print(f\"[INFO] size of the map is: ({map_x_length}, {map_y_length})\")\n",
    "\n",
    "# check if the start and goal points are inside the map area\n",
    "if 0 <= START_X < map_x_length and 0 <= START_Y < map_y_length and 0 <= GOAL_X < map_x_length and 0 <= GOAL_Y < map_y_length:\n",
    "    print(f\"[INFO] start point: ({START_X}, {START_Y}), goal point: ({GOAL_X}, {GOAL_Y})\")\n",
    "else:\n",
    "    raise ValueError('[ERROR] The start or goal point is out of the map!')\n",
    "# check if the start and goal points are in an obstacle\n",
    "if obstacle_map[START_X, START_Y] == 1:\n",
    "    raise ValueError('[ERROR] The start point is in an obstacle!')\n",
    "if obstacle_map[GOAL_X, GOAL_Y] == 1:\n",
    "    raise ValueError('[ERROR] The goal point is in an obstacle!')\n",
    "\n",
    "# plot the map (note that the x and y are swapped only for natural visualization)\n",
    "fig, ax = plt.subplots()\n",
    "ax.imshow(obstacle_map, cmap='gray_r')\n",
    "ax.set_xlabel('Y', fontsize=14)\n",
    "ax.xaxis.set_label_position('top')\n",
    "ax.xaxis.tick_top()\n",
    "ax.set_ylabel('X', fontsize=14)\n",
    "ax.xaxis.set_major_locator(ticker.MultipleLocator(1)) # draw x ticks every 1\n",
    "ax.yaxis.set_major_locator(ticker.MultipleLocator(1)) # draw y ticks every 1\n",
    "ax.scatter(START_Y, START_X, s=400, ec=color[\"blue\"], fc=\"white\", lw=2) # start point\n",
    "ax.text(START_Y, START_X, 'S', color=color[\"blue\"], fontsize=12, va='center', ha='center') # draw \"S\" letter\n",
    "ax.scatter(GOAL_Y, GOAL_X, s=400, ec=color[\"orange\"], fc=\"white\", lw=2) # goal point\n",
    "ax.text(GOAL_Y, GOAL_X, 'G', color=color[\"orange\"], fontsize=12, va='center', ha='center') # draw \"G\" letter\n",
    "plt.show()"
   ]
  }
 ],
 "metadata": {
  "kernelspec": {
   "display_name": "Python 3",
   "language": "python",
   "name": "python3"
  },
  "language_info": {
   "codemirror_mode": {
    "name": "ipython",
    "version": 3
   },
   "file_extension": ".py",
   "mimetype": "text/x-python",
   "name": "python",
   "nbconvert_exporter": "python",
   "pygments_lexer": "ipython3",
   "version": "3.10.12"
  }
 },
 "nbformat": 4,
 "nbformat_minor": 2
}
